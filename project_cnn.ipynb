{
 "cells": [
  {
   "cell_type": "markdown",
   "metadata": {
    "_cell_guid": "b1076dfc-b9ad-4769-8c92-a6c4dae69d19",
    "_uuid": "8f2839f25d086af736a60e9eeb907d3b93b6e0e5",
    "execution": {
     "iopub.execute_input": "2021-11-22T13:14:38.967409Z",
     "iopub.status.busy": "2021-11-22T13:14:38.96648Z",
     "iopub.status.idle": "2021-11-22T13:14:38.994955Z",
     "shell.execute_reply": "2021-11-22T13:14:38.993808Z",
     "shell.execute_reply.started": "2021-11-22T13:14:38.967308Z"
    },
    "id": "IMPVZK2F683D"
   },
   "source": [
    "# **imports necessary libraries**"
   ]
  },
  {
   "cell_type": "code",
   "execution_count": 1,
   "metadata": {
    "_cell_guid": "b1076dfc-b9ad-4769-8c92-a6c4dae69d19",
    "_uuid": "8f2839f25d086af736a60e9eeb907d3b93b6e0e5",
    "execution": {
     "iopub.execute_input": "2024-04-17T21:26:49.465491Z",
     "iopub.status.busy": "2024-04-17T21:26:49.464956Z",
     "iopub.status.idle": "2024-04-17T21:26:59.436921Z",
     "shell.execute_reply": "2024-04-17T21:26:59.435182Z",
     "shell.execute_reply.started": "2024-04-17T21:26:49.465384Z"
    },
    "id": "TVBsdTmJ683J"
   },
   "outputs": [
    {
     "name": "stdout",
     "output_type": "stream",
     "text": [
      "WARNING:tensorflow:From C:\\Users\\salma elbadry\\anaconda3\\lib\\site-packages\\keras\\src\\losses.py:2976: The name tf.losses.sparse_softmax_cross_entropy is deprecated. Please use tf.compat.v1.losses.sparse_softmax_cross_entropy instead.\n",
      "\n"
     ]
    }
   ],
   "source": [
    "import numpy as np\n",
    "import pandas as pd\n",
    "import matplotlib.pyplot as plt\n",
    "import seaborn as sns\n",
    "from sklearn.feature_extraction.text import CountVectorizer\n",
    "from sklearn.model_selection import train_test_split\n",
    "from sklearn.metrics import confusion_matrix, classification_report, f1_score, precision_score, recall_score, accuracy_score\n",
    "\n",
    "from nltk.corpus import stopwords\n",
    "import tensorflow as tf\n",
    "from tensorflow.keras.utils import plot_model\n",
    "from tensorflow.keras import models, layers\n",
    "from tensorflow.keras.callbacks import EarlyStopping\n",
    "import warnings\n",
    "\n",
    "\n",
    "warnings.filterwarnings('ignore')"
   ]
  },
  {
   "cell_type": "markdown",
   "metadata": {
    "id": "zq84qpPI683M"
   },
   "source": [
    "# **Reading and PREPROCESSING**"
   ]
  },
  {
   "cell_type": "code",
   "execution_count": 2,
   "metadata": {
    "colab": {
     "base_uri": "https://localhost:8080/",
     "height": 380
    },
    "execution": {
     "iopub.execute_input": "2024-04-17T21:26:59.439981Z",
     "iopub.status.busy": "2024-04-17T21:26:59.439181Z",
     "iopub.status.idle": "2024-04-17T21:26:59.507238Z",
     "shell.execute_reply": "2024-04-17T21:26:59.506121Z",
     "shell.execute_reply.started": "2024-04-17T21:26:59.439937Z"
    },
    "id": "pwXfL2xxEwaM",
    "outputId": "0691b89b-b321-4469-cdde-f7ae2b65fe58",
    "scrolled": true
   },
   "outputs": [
    {
     "name": "stdout",
     "output_type": "stream",
     "text": [
      "Data Shape: (4200, 2)\n"
     ]
    },
    {
     "data": {
      "text/html": [
       "<div>\n",
       "<style scoped>\n",
       "    .dataframe tbody tr th:only-of-type {\n",
       "        vertical-align: middle;\n",
       "    }\n",
       "\n",
       "    .dataframe tbody tr th {\n",
       "        vertical-align: top;\n",
       "    }\n",
       "\n",
       "    .dataframe thead th {\n",
       "        text-align: right;\n",
       "    }\n",
       "</style>\n",
       "<table border=\"1\" class=\"dataframe\">\n",
       "  <thead>\n",
       "    <tr style=\"text-align: right;\">\n",
       "      <th></th>\n",
       "      <th>Sentence</th>\n",
       "      <th>Label</th>\n",
       "    </tr>\n",
       "  </thead>\n",
       "  <tbody>\n",
       "    <tr>\n",
       "      <th>0</th>\n",
       "      <td>a</td>\n",
       "      <td>1</td>\n",
       "    </tr>\n",
       "    <tr>\n",
       "      <th>1</th>\n",
       "      <td>a'</td>\n",
       "      <td>1</td>\n",
       "    </tr>\n",
       "    <tr>\n",
       "      <th>2</th>\n",
       "      <td>a' --</td>\n",
       "      <td>1</td>\n",
       "    </tr>\n",
       "    <tr>\n",
       "      <th>3</th>\n",
       "      <td>a' or 1 = 1; --</td>\n",
       "      <td>1</td>\n",
       "    </tr>\n",
       "    <tr>\n",
       "      <th>4</th>\n",
       "      <td>@</td>\n",
       "      <td>1</td>\n",
       "    </tr>\n",
       "    <tr>\n",
       "      <th>5</th>\n",
       "      <td>?</td>\n",
       "      <td>1</td>\n",
       "    </tr>\n",
       "    <tr>\n",
       "      <th>6</th>\n",
       "      <td>' and 1 = 0 )  union all</td>\n",
       "      <td>1</td>\n",
       "    </tr>\n",
       "    <tr>\n",
       "      <th>7</th>\n",
       "      <td>? or 1 = 1 --</td>\n",
       "      <td>1</td>\n",
       "    </tr>\n",
       "    <tr>\n",
       "      <th>8</th>\n",
       "      <td>x' and userid is NULL; --</td>\n",
       "      <td>1</td>\n",
       "    </tr>\n",
       "    <tr>\n",
       "      <th>9</th>\n",
       "      <td>x' and email is NULL; --</td>\n",
       "      <td>1</td>\n",
       "    </tr>\n",
       "  </tbody>\n",
       "</table>\n",
       "</div>"
      ],
      "text/plain": [
       "                    Sentence  Label\n",
       "0                          a      1\n",
       "1                        a'       1\n",
       "2                      a' --      1\n",
       "3            a' or 1 = 1; --      1\n",
       "4                          @      1\n",
       "5                          ?      1\n",
       "6   ' and 1 = 0 )  union all      1\n",
       "7              ? or 1 = 1 --      1\n",
       "8  x' and userid is NULL; --      1\n",
       "9   x' and email is NULL; --      1"
      ]
     },
     "execution_count": 2,
     "metadata": {},
     "output_type": "execute_result"
    }
   ],
   "source": [
    "df = pd.read_csv(r\"C:\\Users\\salma elbadry\\Desktop\\LEVEL 4\\lvl4_s2\\Deep learning\\project\\sqli.csv\", encoding='utf-16')\n",
    "print(\"Data Shape:\", df.shape)\n",
    "df.head(10)"
   ]
  },
  {
   "cell_type": "code",
   "execution_count": 3,
   "metadata": {
    "colab": {
     "base_uri": "https://localhost:8080/"
    },
    "execution": {
     "iopub.execute_input": "2024-04-17T21:26:59.509947Z",
     "iopub.status.busy": "2024-04-17T21:26:59.509115Z",
     "iopub.status.idle": "2024-04-17T21:26:59.523187Z",
     "shell.execute_reply": "2024-04-17T21:26:59.521341Z",
     "shell.execute_reply.started": "2024-04-17T21:26:59.509905Z"
    },
    "id": "B6OuxIyx683N",
    "outputId": "180dd9fb-aba8-4145-b7f4-22134ea25602"
   },
   "outputs": [
    {
     "name": "stdout",
     "output_type": "stream",
     "text": [
      "(4200,) (4200,)\n",
      "Dataset Input: \n",
      " 0                  a\n",
      "1                a' \n",
      "2              a' --\n",
      "3    a' or 1 = 1; --\n",
      "4                  @\n",
      "Name: Sentence, dtype: object\n",
      "Dataset Label: \n",
      " 0    1\n",
      "1    1\n",
      "2    1\n",
      "3    1\n",
      "4    1\n",
      "Name: Label, dtype: int64\n"
     ]
    }
   ],
   "source": [
    "X = df['Sentence']\n",
    "y = df['Label']\n",
    "print(X.shape, y.shape)\n",
    "print(\"Dataset Input:\", \"\\n\", X.head(5))\n",
    "print(\"Dataset Label:\", \"\\n\", y.head(5))"
   ]
  },
  {
   "cell_type": "code",
   "execution_count": 4,
   "metadata": {
    "colab": {
     "base_uri": "https://localhost:8080/"
    },
    "execution": {
     "iopub.execute_input": "2024-04-17T21:26:59.526670Z",
     "iopub.status.busy": "2024-04-17T21:26:59.526250Z",
     "iopub.status.idle": "2024-04-17T21:26:59.945305Z",
     "shell.execute_reply": "2024-04-17T21:26:59.944169Z",
     "shell.execute_reply.started": "2024-04-17T21:26:59.526626Z"
    },
    "id": "nNTZPR3jE3tX",
    "outputId": "102f32f9-47b2-45ec-e131-eac8b40ebafd"
   },
   "outputs": [
    {
     "name": "stderr",
     "output_type": "stream",
     "text": [
      "[nltk_data] Downloading package stopwords to C:\\Users\\salma\n",
      "[nltk_data]     elbadry\\AppData\\Roaming\\nltk_data...\n",
      "[nltk_data]   Package stopwords is already up-to-date!\n"
     ]
    }
   ],
   "source": [
    "import nltk\n",
    "nltk.download('stopwords')\n",
    "vectorizer = CountVectorizer(min_df = 2, max_df = 0.8, stop_words = stopwords.words('english'))\n",
    "X = vectorizer.fit_transform(X.values.astype('U')).toarray()"
   ]
  },
  {
   "cell_type": "code",
   "execution_count": 5,
   "metadata": {
    "colab": {
     "base_uri": "https://localhost:8080/"
    },
    "execution": {
     "iopub.execute_input": "2024-04-17T21:26:59.947349Z",
     "iopub.status.busy": "2024-04-17T21:26:59.946756Z",
     "iopub.status.idle": "2024-04-17T21:27:00.079142Z",
     "shell.execute_reply": "2024-04-17T21:27:00.077516Z",
     "shell.execute_reply.started": "2024-04-17T21:26:59.947314Z"
    },
    "id": "ab38XMjUE0ct",
    "outputId": "bfc92926-6c8d-4bc9-82ae-014c0744c069"
   },
   "outputs": [
    {
     "name": "stdout",
     "output_type": "stream",
     "text": [
      "(3360, 4717)\n",
      "(3360,)\n",
      "(840, 4717)\n",
      "(840,)\n"
     ]
    }
   ],
   "source": [
    "X_train, X_test, y_train, y_test = train_test_split(X, y, test_size = 0.2)\n",
    "print(X_train.shape)\n",
    "print(y_train.shape)\n",
    "print(X_test.shape)\n",
    "print(y_test.shape)"
   ]
  },
  {
   "cell_type": "markdown",
   "metadata": {
    "id": "Gxs5Buge683V"
   },
   "source": [
    "# **Covolutional NEURAL NETWORK (CNN)**"
   ]
  },
  {
   "cell_type": "code",
   "execution_count": 6,
   "metadata": {
    "colab": {
     "base_uri": "https://localhost:8080/"
    },
    "id": "r_o91DHyXVAj",
    "outputId": "ef184fbe-6be2-444a-ef2a-b107a28082b1"
   },
   "outputs": [
    {
     "name": "stdout",
     "output_type": "stream",
     "text": [
      "WARNING:tensorflow:From C:\\Users\\salma elbadry\\anaconda3\\lib\\site-packages\\keras\\src\\backend.py:873: The name tf.get_default_graph is deprecated. Please use tf.compat.v1.get_default_graph instead.\n",
      "\n",
      "Model: \"sequential\"\n",
      "_________________________________________________________________\n",
      " Layer (type)                Output Shape              Param #   \n",
      "=================================================================\n",
      " conv1d (Conv1D)             (None, 1, 32)             150976    \n",
      "                                                                 \n",
      " conv1d_1 (Conv1D)           (None, 1, 32)             1056      \n",
      "                                                                 \n",
      " flatten (Flatten)           (None, 32)                0         \n",
      "                                                                 \n",
      " dense (Dense)               (None, 1)                 33        \n",
      "                                                                 \n",
      "=================================================================\n",
      "Total params: 152065 (594.00 KB)\n",
      "Trainable params: 152065 (594.00 KB)\n",
      "Non-trainable params: 0 (0.00 Byte)\n",
      "_________________________________________________________________\n"
     ]
    }
   ],
   "source": [
    "model = models.Sequential()\n",
    "model.add(layers.Conv1D(32, 1, activation = 'relu', input_shape = (1,4717)))\n",
    "model.add(layers.Conv1D(32, 1, activation = 'relu'))\n",
    "model.add(layers.Flatten())\n",
    "model.add(layers.Dense(1, activation = 'sigmoid'))\n",
    "model.summary()"
   ]
  },
  {
   "cell_type": "code",
   "execution_count": 7,
   "metadata": {
    "colab": {
     "base_uri": "https://localhost:8080/"
    },
    "id": "HZkNwBDpXVAj",
    "outputId": "aa1225e5-e6ea-40d7-fad4-d205ad805ef3"
   },
   "outputs": [
    {
     "name": "stdout",
     "output_type": "stream",
     "text": [
      "WARNING:tensorflow:From C:\\Users\\salma elbadry\\anaconda3\\lib\\site-packages\\keras\\src\\optimizers\\__init__.py:309: The name tf.train.Optimizer is deprecated. Please use tf.compat.v1.train.Optimizer instead.\n",
      "\n",
      "Epoch 1/10\n",
      "WARNING:tensorflow:From C:\\Users\\salma elbadry\\anaconda3\\lib\\site-packages\\keras\\src\\utils\\tf_utils.py:492: The name tf.ragged.RaggedTensorValue is deprecated. Please use tf.compat.v1.ragged.RaggedTensorValue instead.\n",
      "\n",
      "WARNING:tensorflow:From C:\\Users\\salma elbadry\\anaconda3\\lib\\site-packages\\keras\\src\\engine\\base_layer_utils.py:384: The name tf.executing_eagerly_outside_functions is deprecated. Please use tf.compat.v1.executing_eagerly_outside_functions instead.\n",
      "\n",
      "105/105 [==============================] - 1s 6ms/step - loss: 0.4276 - accuracy: 0.7964 - val_loss: 0.2167 - val_accuracy: 0.9071\n",
      "Epoch 2/10\n",
      "105/105 [==============================] - 0s 4ms/step - loss: 0.1428 - accuracy: 0.9565 - val_loss: 0.0973 - val_accuracy: 0.9774\n",
      "Epoch 3/10\n",
      "105/105 [==============================] - 0s 4ms/step - loss: 0.0694 - accuracy: 0.9807 - val_loss: 0.0823 - val_accuracy: 0.9667\n",
      "Epoch 4/10\n",
      "105/105 [==============================] - 0s 4ms/step - loss: 0.0532 - accuracy: 0.9821 - val_loss: 0.0783 - val_accuracy: 0.9643\n",
      "Epoch 5/10\n",
      "105/105 [==============================] - 0s 4ms/step - loss: 0.0486 - accuracy: 0.9821 - val_loss: 0.0747 - val_accuracy: 0.9667\n",
      "Epoch 6/10\n",
      "105/105 [==============================] - 0s 4ms/step - loss: 0.0457 - accuracy: 0.9827 - val_loss: 0.0712 - val_accuracy: 0.9679\n",
      "Epoch 7/10\n",
      "105/105 [==============================] - 0s 4ms/step - loss: 0.0448 - accuracy: 0.9827 - val_loss: 0.0720 - val_accuracy: 0.9679\n",
      "Epoch 8/10\n",
      "105/105 [==============================] - 0s 4ms/step - loss: 0.0439 - accuracy: 0.9827 - val_loss: 0.0766 - val_accuracy: 0.9643\n"
     ]
    }
   ],
   "source": [
    "early_stopping = EarlyStopping(monitor='val_loss', patience=2, restore_best_weights=True)\n",
    "\n",
    "model.compile(optimizer='adam', loss=tf.keras.losses.BinaryCrossentropy(), metrics=['accuracy'])\n",
    "\n",
    "X_train1 = X_train.reshape(-1, 1, 4717)\n",
    "X_test1 = X_test.reshape(-1, 1, 4717)\n",
    "\n",
    "history = model.fit(X_train1, y_train, epochs=10, validation_data=(X_test1, y_test), callbacks=[early_stopping])"
   ]
  },
  {
   "cell_type": "code",
   "execution_count": 8,
   "metadata": {
    "colab": {
     "base_uri": "https://localhost:8080/"
    },
    "execution": {
     "iopub.execute_input": "2024-04-17T21:27:36.670804Z",
     "iopub.status.busy": "2024-04-17T21:27:36.669601Z",
     "iopub.status.idle": "2024-04-17T21:27:36.974486Z",
     "shell.execute_reply": "2024-04-17T21:27:36.972231Z",
     "shell.execute_reply.started": "2024-04-17T21:27:36.670743Z"
    },
    "id": "rO6xSeVL683W",
    "outputId": "96f80837-87af-4421-9479-a0f7e71f5720"
   },
   "outputs": [
    {
     "name": "stdout",
     "output_type": "stream",
     "text": [
      "27/27 [==============================] - 0s 1ms/step\n",
      "Accuracy of CNN on test set : 0.9678571428571429\n",
      "F1 Score of CNN on test set : 0.9406593406593408\n"
     ]
    }
   ],
   "source": [
    "y_pred = model.predict(X_test1)\n",
    "y_pred = np.round(y_pred)\n",
    "print(f\"Accuracy of CNN on test set : {accuracy_score(y_pred, y_test)}\")\n",
    "print(f\"F1 Score of CNN on test set : {f1_score(y_pred, y_test)}\")\n"
   ]
  },
  {
   "cell_type": "markdown",
   "metadata": {
    "id": "q4ckDcQvXVAk"
   },
   "source": [
    "# Visualization"
   ]
  },
  {
   "cell_type": "code",
   "execution_count": 9,
   "metadata": {
    "colab": {
     "base_uri": "https://localhost:8080/",
     "height": 533
    },
    "execution": {
     "iopub.execute_input": "2024-04-17T21:27:39.939528Z",
     "iopub.status.busy": "2024-04-17T21:27:39.938855Z",
     "iopub.status.idle": "2024-04-17T21:27:41.303749Z",
     "shell.execute_reply": "2024-04-17T21:27:41.302148Z",
     "shell.execute_reply.started": "2024-04-17T21:27:39.939488Z"
    },
    "id": "xCC1XeEzQfrx",
    "outputId": "aece7ed4-1464-4221-a9b0-a212ad6782f2",
    "scrolled": false
   },
   "outputs": [],
   "source": [
    "#plot_model(model, show_shapes=True, to_file='CNN.png')"
   ]
  },
  {
   "cell_type": "code",
   "execution_count": 10,
   "metadata": {
    "colab": {
     "base_uri": "https://localhost:8080/",
     "height": 472
    },
    "execution": {
     "iopub.execute_input": "2024-04-17T21:27:47.541594Z",
     "iopub.status.busy": "2024-04-17T21:27:47.541116Z",
     "iopub.status.idle": "2024-04-17T21:27:48.051398Z",
     "shell.execute_reply": "2024-04-17T21:27:48.049679Z",
     "shell.execute_reply.started": "2024-04-17T21:27:47.541551Z"
    },
    "id": "2fQh_rQwPuSK",
    "outputId": "3fe0603b-0016-44eb-b9da-0750dbdc9b1d",
    "scrolled": false
   },
   "outputs": [
    {
     "data": {
      "image/png": "[encoded data removed]",
      "text/plain": [
       "<Figure size 640x480 with 1 Axes>"
      ]
     },
     "metadata": {},
     "output_type": "display_data"
    }
   ],
   "source": [
    "history_dict = history.history\n",
    "train_loss = history_dict['loss']    # Training loss over epochs\n",
    "val_loss = history_dict['val_loss']    # Validation loss over epochs\n",
    "epochs = range(1, len(history_dict['loss'])+1)\n",
    "plt.plot(epochs, train_loss,'g', label='Training error')\n",
    "plt.plot(epochs, val_loss,'b', color=\"red\", label='Validation error')\n",
    "plt.title('Training and Validation Loss')\n",
    "plt.xlabel('Epochs')\n",
    "plt.ylabel('Loss')\n",
    "plt.legend()\n",
    "plt.show()"
   ]
  },
  {
   "cell_type": "code",
   "execution_count": 11,
   "metadata": {
    "colab": {
     "base_uri": "https://localhost:8080/",
     "height": 472
    },
    "id": "t__2XvO2XVAl",
    "outputId": "7d5942f6-fb9b-4775-ccc9-1d7ac248e7ba"
   },
   "outputs": [
    {
     "data": {
      "image/png": "[encoded data removed]",
      "text/plain": [
       "<Figure size 640x480 with 1 Axes>"
      ]
     },
     "metadata": {},
     "output_type": "display_data"
    }
   ],
   "source": [
    "    history_dict = history.history\n",
    "    train_acc = history_dict['accuracy']    # Training loss over epochs\n",
    "    val_acc = history_dict['val_accuracy']    # Validation loss over epochs\n",
    "    epochs = range(1, len(history_dict['accuracy'])+1)\n",
    "    plt.plot(epochs, train_acc,'g', label='Training accuracy')\n",
    "    plt.plot(epochs, val_acc,'b', color=\"red\", label='Validation accuracy')\n",
    "    plt.title('Training and Validation Accuracy')\n",
    "    plt.xlabel('Epochs')\n",
    "    plt.ylabel('Accuracy')\n",
    "    plt.legend()\n",
    "    plt.show()"
   ]
  },
  {
   "cell_type": "code",
   "execution_count": 12,
   "metadata": {
    "colab": {
     "base_uri": "https://localhost:8080/",
     "height": 769
    },
    "execution": {
     "iopub.execute_input": "2024-04-17T21:27:52.216540Z",
     "iopub.status.busy": "2024-04-17T21:27:52.216025Z",
     "iopub.status.idle": "2024-04-17T21:27:52.530686Z",
     "shell.execute_reply": "2024-04-17T21:27:52.529704Z",
     "shell.execute_reply.started": "2024-04-17T21:27:52.216502Z"
    },
    "id": "V0gGM_eashkp",
    "outputId": "f6b6b8aa-a8ab-49e8-c965-42086c1627b4"
   },
   "outputs": [
    {
     "data": {
      "image/png": "[encoded data removed]",
      "text/plain": [
       "<Figure size 1000x800 with 2 Axes>"
      ]
     },
     "metadata": {},
     "output_type": "display_data"
    },
    {
     "name": "stdout",
     "output_type": "stream",
     "text": [
      "               precision    recall  f1-score   support\n",
      "\n",
      "Non-Injection       1.00      0.96      0.98       623\n",
      "    Injection       0.90      0.99      0.94       217\n",
      "\n",
      "     accuracy                           0.97       840\n",
      "    macro avg       0.95      0.97      0.96       840\n",
      " weighted avg       0.97      0.97      0.97       840\n",
      "\n"
     ]
    }
   ],
   "source": [
    "# Plots confusion matrix and displays classification report\n",
    "conf_matrix_model = confusion_matrix(y_test, y_pred)\n",
    "# Plot the confusion matrix\n",
    "plt.figure(figsize=(10, 8))\n",
    "sns.heatmap(conf_matrix_model, annot=True, fmt='.2f')\n",
    "plt.xlabel('Predicted Label')\n",
    "plt.ylabel('True Label')\n",
    "plt.title('Confusion Matrix')\n",
    "plt.show()\n",
    "print(classification_report(y_test, y_pred, target_names=[\"Non-Injection\", \"Injection\"]))"
   ]
  },
  {
   "cell_type": "markdown",
   "metadata": {},
   "source": [
    "# Define the RNN model"
   ]
  },
  {
   "cell_type": "code",
   "execution_count": 13,
   "metadata": {
    "id": "LoM4GXnmXVAm"
   },
   "outputs": [
    {
     "name": "stdout",
     "output_type": "stream",
     "text": [
      "Model: \"sequential_1\"\n",
      "_________________________________________________________________\n",
      " Layer (type)                Output Shape              Param #   \n",
      "=================================================================\n",
      " embedding (Embedding)       (None, 1, 128)            603776    \n",
      "                                                                 \n",
      " lstm (LSTM)                 (None, 128)               131584    \n",
      "                                                                 \n",
      " dense_1 (Dense)             (None, 1)                 129       \n",
      "                                                                 \n",
      "=================================================================\n",
      "Total params: 735489 (2.81 MB)\n",
      "Trainable params: 735489 (2.81 MB)\n",
      "Non-trainable params: 0 (0.00 Byte)\n",
      "_________________________________________________________________\n"
     ]
    }
   ],
   "source": [
    "from tensorflow import keras\n",
    "model = keras.Sequential()\n",
    "model.add(layers.Embedding(input_dim=4717, output_dim=128, input_length=1))  # Assuming 4717 is the size of your vocabulary\n",
    "model.add(layers.LSTM(128))\n",
    "model.add(layers.Dense(1, activation='sigmoid'))\n",
    "model.summary()"
   ]
  },
  {
   "cell_type": "code",
   "execution_count": 14,
   "metadata": {},
   "outputs": [],
   "source": [
    "# Compile the model\n",
    "model.compile(optimizer='adam', loss='binary_crossentropy', metrics=['accuracy'])\n"
   ]
  },
  {
   "cell_type": "code",
   "execution_count": 15,
   "metadata": {},
   "outputs": [],
   "source": [
    "# Early stopping\n",
    "early_stopping = EarlyStopping(monitor='val_loss', patience=2, restore_best_weights=True)\n"
   ]
  },
  {
   "cell_type": "code",
   "execution_count": 17,
   "metadata": {},
   "outputs": [
    {
     "name": "stdout",
     "output_type": "stream",
     "text": [
      "Epoch 1/10\n"
     ]
    },
    {
     "ename": "TypeError",
     "evalue": "in user code:\n\n    File \"C:\\Users\\salma elbadry\\anaconda3\\lib\\site-packages\\keras\\src\\engine\\training.py\", line 1401, in train_function  *\n        return step_function(self, iterator)\n    File \"C:\\Users\\salma elbadry\\anaconda3\\lib\\site-packages\\keras\\src\\engine\\training.py\", line 1384, in step_function  **\n        outputs = model.distribute_strategy.run(run_step, args=(data,))\n    File \"C:\\Users\\salma elbadry\\anaconda3\\lib\\site-packages\\keras\\src\\engine\\training.py\", line 1373, in run_step  **\n        outputs = model.train_step(data)\n    File \"C:\\Users\\salma elbadry\\anaconda3\\lib\\site-packages\\keras\\src\\engine\\training.py\", line 1150, in train_step\n        y_pred = self(x, training=True)\n    File \"C:\\Users\\salma elbadry\\anaconda3\\lib\\site-packages\\keras\\src\\utils\\traceback_utils.py\", line 70, in error_handler\n        raise e.with_traceback(filtered_tb) from None\n    File \"C:\\Users\\salma elbadry\\anaconda3\\lib\\site-packages\\keras\\src\\layers\\rnn\\lstm.py\", line 616, in call\n        timesteps = input_shape[0] if self.time_major else input_shape[1]\n\n    TypeError: Exception encountered when calling layer 'lstm' (type LSTM).\n    \n    'NoneType' object is not subscriptable\n    \n    Call arguments received by layer 'lstm' (type LSTM):\n      • inputs=tf.Tensor(shape=<unknown>, dtype=float32)\n      • mask=None\n      • training=True\n      • initial_state=None\n",
     "output_type": "error",
     "traceback": [
      "\u001b[1;31m---------------------------------------------------------------------------\u001b[0m",
      "\u001b[1;31mTypeError\u001b[0m                                 Traceback (most recent call last)",
      "Cell \u001b[1;32mIn[17], line 2\u001b[0m\n\u001b[0;32m      1\u001b[0m \u001b[38;5;66;03m# Train the model\u001b[39;00m\n\u001b[1;32m----> 2\u001b[0m history \u001b[38;5;241m=\u001b[39m \u001b[43mmodel\u001b[49m\u001b[38;5;241;43m.\u001b[39;49m\u001b[43mfit\u001b[49m\u001b[43m(\u001b[49m\u001b[43mX_train1\u001b[49m\u001b[43m,\u001b[49m\u001b[43m \u001b[49m\u001b[43my_train\u001b[49m\u001b[43m,\u001b[49m\u001b[43m \u001b[49m\u001b[43mepochs\u001b[49m\u001b[38;5;241;43m=\u001b[39;49m\u001b[38;5;241;43m10\u001b[39;49m\u001b[43m,\u001b[49m\u001b[43m \u001b[49m\u001b[43mvalidation_data\u001b[49m\u001b[38;5;241;43m=\u001b[39;49m\u001b[43m(\u001b[49m\u001b[43mX_test1\u001b[49m\u001b[43m,\u001b[49m\u001b[43m \u001b[49m\u001b[43my_test\u001b[49m\u001b[43m)\u001b[49m\u001b[43m,\u001b[49m\u001b[43m \u001b[49m\u001b[43mcallbacks\u001b[49m\u001b[38;5;241;43m=\u001b[39;49m\u001b[43m[\u001b[49m\u001b[43mearly_stopping\u001b[49m\u001b[43m]\u001b[49m\u001b[43m)\u001b[49m\n",
      "File \u001b[1;32m~\\anaconda3\\lib\\site-packages\\keras\\src\\utils\\traceback_utils.py:70\u001b[0m, in \u001b[0;36mfilter_traceback.<locals>.error_handler\u001b[1;34m(*args, **kwargs)\u001b[0m\n\u001b[0;32m     67\u001b[0m     filtered_tb \u001b[38;5;241m=\u001b[39m _process_traceback_frames(e\u001b[38;5;241m.\u001b[39m__traceback__)\n\u001b[0;32m     68\u001b[0m     \u001b[38;5;66;03m# To get the full stack trace, call:\u001b[39;00m\n\u001b[0;32m     69\u001b[0m     \u001b[38;5;66;03m# `tf.debugging.disable_traceback_filtering()`\u001b[39;00m\n\u001b[1;32m---> 70\u001b[0m     \u001b[38;5;28;01mraise\u001b[39;00m e\u001b[38;5;241m.\u001b[39mwith_traceback(filtered_tb) \u001b[38;5;28;01mfrom\u001b[39;00m \u001b[38;5;28mNone\u001b[39m\n\u001b[0;32m     71\u001b[0m \u001b[38;5;28;01mfinally\u001b[39;00m:\n\u001b[0;32m     72\u001b[0m     \u001b[38;5;28;01mdel\u001b[39;00m filtered_tb\n",
      "File \u001b[1;32mC:\\Users\\SALMAE~1\\AppData\\Local\\Temp\\__autograph_generated_filexmcnj74t.py:15\u001b[0m, in \u001b[0;36mouter_factory.<locals>.inner_factory.<locals>.tf__train_function\u001b[1;34m(iterator)\u001b[0m\n\u001b[0;32m     13\u001b[0m \u001b[38;5;28;01mtry\u001b[39;00m:\n\u001b[0;32m     14\u001b[0m     do_return \u001b[38;5;241m=\u001b[39m \u001b[38;5;28;01mTrue\u001b[39;00m\n\u001b[1;32m---> 15\u001b[0m     retval_ \u001b[38;5;241m=\u001b[39m ag__\u001b[38;5;241m.\u001b[39mconverted_call(ag__\u001b[38;5;241m.\u001b[39mld(step_function), (ag__\u001b[38;5;241m.\u001b[39mld(\u001b[38;5;28mself\u001b[39m), ag__\u001b[38;5;241m.\u001b[39mld(iterator)), \u001b[38;5;28;01mNone\u001b[39;00m, fscope)\n\u001b[0;32m     16\u001b[0m \u001b[38;5;28;01mexcept\u001b[39;00m:\n\u001b[0;32m     17\u001b[0m     do_return \u001b[38;5;241m=\u001b[39m \u001b[38;5;28;01mFalse\u001b[39;00m\n",
      "\u001b[1;31mTypeError\u001b[0m: in user code:\n\n    File \"C:\\Users\\salma elbadry\\anaconda3\\lib\\site-packages\\keras\\src\\engine\\training.py\", line 1401, in train_function  *\n        return step_function(self, iterator)\n    File \"C:\\Users\\salma elbadry\\anaconda3\\lib\\site-packages\\keras\\src\\engine\\training.py\", line 1384, in step_function  **\n        outputs = model.distribute_strategy.run(run_step, args=(data,))\n    File \"C:\\Users\\salma elbadry\\anaconda3\\lib\\site-packages\\keras\\src\\engine\\training.py\", line 1373, in run_step  **\n        outputs = model.train_step(data)\n    File \"C:\\Users\\salma elbadry\\anaconda3\\lib\\site-packages\\keras\\src\\engine\\training.py\", line 1150, in train_step\n        y_pred = self(x, training=True)\n    File \"C:\\Users\\salma elbadry\\anaconda3\\lib\\site-packages\\keras\\src\\utils\\traceback_utils.py\", line 70, in error_handler\n        raise e.with_traceback(filtered_tb) from None\n    File \"C:\\Users\\salma elbadry\\anaconda3\\lib\\site-packages\\keras\\src\\layers\\rnn\\lstm.py\", line 616, in call\n        timesteps = input_shape[0] if self.time_major else input_shape[1]\n\n    TypeError: Exception encountered when calling layer 'lstm' (type LSTM).\n    \n    'NoneType' object is not subscriptable\n    \n    Call arguments received by layer 'lstm' (type LSTM):\n      • inputs=tf.Tensor(shape=<unknown>, dtype=float32)\n      • mask=None\n      • training=True\n      • initial_state=None\n"
     ]
    }
   ],
   "source": [
    "# Train the model\n",
    "history = model.fit(X_train1, y_train, epochs=10, validation_data=(X_test1, y_test), callbacks=[early_stopping])"
   ]
  },
  {
   "cell_type": "code",
   "execution_count": null,
   "metadata": {},
   "outputs": [],
   "source": [
    "# Evaluate the model\n",
    "y_pred = model.predict(X_test)\n",
    "y_pred = np.round(y_pred)\n",
    "print(f\"Accuracy of RNN on test set : {accuracy_score(y_pred, y_test)}\")\n",
    "print(f\"F1 Score of RNN on test set : {f1_score(y_pred, y_test)}\")"
   ]
  },
  {
   "cell_type": "code",
   "execution_count": null,
   "metadata": {},
   "outputs": [],
   "source": [
    "# Plot training and validation loss\n",
    "history_dict = history.history\n",
    "train_loss = history_dict['loss']    # Training loss over epochs\n",
    "val_loss = history_dict['val_loss']    # Validation loss over epochs\n",
    "epochs = range(1, len(history_dict['loss'])+1)\n",
    "plt.plot(epochs, train_loss,'g', label='Training error')\n",
    "plt.plot(epochs, val_loss,'b', color=\"red\", label='Validation error')\n",
    "plt.title('Training and Validation Loss')\n",
    "plt.xlabel('Epochs')\n",
    "plt.ylabel('Loss')\n",
    "plt.legend()\n",
    "plt.show()"
   ]
  },
  {
   "cell_type": "code",
   "execution_count": null,
   "metadata": {},
   "outputs": [],
   "source": [
    "# Plot training and validation loss\n",
    "history_dict = history.history\n",
    "train_loss = history_dict['loss']    # Training loss over epochs\n",
    "val_loss = history_dict['val_loss']    # Validation loss over epochs\n",
    "epochs = range(1, len(history_dict['loss'])+1)\n",
    "plt.plot(epochs, train_loss,'g', label='Training error')\n",
    "plt.plot(epochs, val_loss,'b', color=\"red\", label='Validation error')\n",
    "plt.title('Training and Validation Loss')\n",
    "plt.xlabel('Epochs')\n",
    "plt.ylabel('Loss')\n",
    "plt.legend()\n",
    "plt.show()"
   ]
  },
  {
   "cell_type": "code",
   "execution_count": null,
   "metadata": {},
   "outputs": [],
   "source": [
    "# Confusion matrix and classification report\n",
    "conf_matrix_model = confusion_matrix(y_test, y_pred)\n",
    "plt.figure(figsize=(10, 8))\n",
    "sns.heatmap(conf_matrix_model, annot=True, fmt='.2f')\n",
    "plt.xlabel('Predicted Label')\n",
    "plt.ylabel('True Label')\n",
    "plt.title('Confusion Matrix')\n",
    "plt.show()\n",
    "print(classification_report(y_test, y_pred, target_names=[\"Non-Injection\", \"Injection\"]))"
   ]
  },
  {
   "cell_type": "code",
   "execution_count": null,
   "metadata": {},
   "outputs": [],
   "source": [
    "# Define the FNN model\n",
    "model = keras.Sequential()\n",
    "model.add(layers.Flatten(input_shape=(1, 4717)))  # Flatten the input\n",
    "model.add(layers.Dense(128, activation='relu'))  # Hidden layer 1\n",
    "model.add(layers.Dense(64, activation='relu'))   # Hidden layer 2 (optional)\n",
    "model.add(layers.Dense(1, activation='sigmoid'))  # Output layer\n",
    "model.summary()\n"
   ]
  },
  {
   "cell_type": "code",
   "execution_count": null,
   "metadata": {},
   "outputs": [],
   "source": []
  },
  {
   "cell_type": "code",
   "execution_count": null,
   "metadata": {},
   "outputs": [],
   "source": [
    "# Compile the model\n",
    "model.compile(optimizer='adam', loss='binary_crossentropy', metrics=['accuracy'])\n",
    "\n",
    "# Early stopping\n",
    "early_stopping = EarlyStopping(monitor='val_loss', patience=2, restore_best_weights=True)"
   ]
  },
  {
   "cell_type": "code",
   "execution_count": null,
   "metadata": {},
   "outputs": [],
   "source": [
    "# Train the model\n",
    "history = model.fit(X_train, y_train, epochs=10, validation_data=(X_test, y_test), callbacks=[early_stopping])"
   ]
  },
  {
   "cell_type": "code",
   "execution_count": null,
   "metadata": {},
   "outputs": [],
   "source": [
    "# Evaluate the model\n",
    "y_pred = model.predict(X_test)\n",
    "y_pred = np.round(y_pred)\n",
    "print(f\"Accuracy of FNN on test set : {accuracy_score(y_pred, y_test)}\")\n",
    "print(f\"F1 Score of FNN on test set : {f1_score(y_pred, y_test)}\")"
   ]
  },
  {
   "cell_type": "code",
   "execution_count": null,
   "metadata": {},
   "outputs": [],
   "source": [
    "# Plot training and validation loss\n",
    "history_dict = history.history\n",
    "train_loss = history_dict['loss']    # Training loss over epochs\n",
    "val_loss = history_dict['val_loss']    # Validation loss over epochs\n",
    "epochs = range(1, len(history_dict['loss'])+1)\n",
    "plt.plot(epochs, train_loss,'g', label='Training error')\n",
    "plt.plot(epochs, val_loss,'b', color=\"red\", label='Validation error')\n",
    "plt.title('Training and Validation Loss')\n",
    "plt.xlabel('Epochs')\n",
    "plt.ylabel('Loss')\n",
    "plt.legend()\n",
    "plt.show()"
   ]
  },
  {
   "cell_type": "code",
   "execution_count": null,
   "metadata": {},
   "outputs": [],
   "source": [
    "# Plot training and validation accuracy\n",
    "train_acc = history_dict['accuracy']  # Training accuracy over epochs\n",
    "val_acc = history_dict['val_accuracy']  # Validation accuracy over epochs\n",
    "epochs = range(1, len(history_dict['accuracy']) + 1)\n",
    "plt.plot(epochs, train_acc, 'g', label='Training accuracy')\n",
    "plt.plot(epochs, val_acc, 'b', color=\"red\", label='Validation accuracy')\n",
    "plt.title('Training and Validation Accuracy')\n",
    "plt.xlabel('Epochs')\n",
    "plt.ylabel('Accuracy')\n",
    "plt.legend()\n",
    "plt.show()"
   ]
  },
  {
   "cell_type": "code",
   "execution_count": null,
   "metadata": {},
   "outputs": [],
   "source": [
    "# Confusion matrix and classification report\n",
    "conf_matrix_model = confusion_matrix(y_test, y_pred)\n",
    "plt.figure(figsize=(10, 8))\n",
    "sns.heatmap(conf_matrix_model, annot=True, fmt='.2f')\n",
    "plt.xlabel('Predicted Label')\n",
    "plt.ylabel('True Label')\n",
    "plt.title('Confusion Matrix')\n",
    "plt.show()\n",
    "print(classification_report(y_test, y_pred, target_names=[\"Non-Injection\", \"Injection\"]))\n"
   ]
  },
  {
   "cell_type": "code",
   "execution_count": null,
   "metadata": {},
   "outputs": [],
   "source": [
    "# Define the Deep Belief Network (DBN) model \n",
    "# We'll use a stack of Restricted Boltzmann Machines (RBMs) for the DBN\n",
    "from tensorflow.keras.layers import Input, Dense\n",
    "from tensorflow.keras.models import Model"
   ]
  },
  {
   "cell_type": "code",
   "execution_count": null,
   "metadata": {},
   "outputs": [],
   "source": [
    "def create_rbm(input_dim, num_hidden):\n",
    "    \"\"\"Creates a Restricted Boltzmann Machine (RBM) layer.\"\"\"\n",
    "    input_layer = Input(shape=(input_dim,))\n",
    "    hidden_layer = Dense(num_hidden, activation='relu', use_bias=False)(input_layer)\n",
    "    output_layer = Dense(input_dim, activation='sigmoid', use_bias=False)(hidden_layer)\n",
    "    rbm = Model(inputs=input_layer, outputs=output_layer)\n",
    "    rbm.compile(optimizer='adam', loss='mse')  # You might need to adjust the loss for your data\n",
    "    return rbm"
   ]
  },
  {
   "cell_type": "code",
   "execution_count": null,
   "metadata": {},
   "outputs": [],
   "source": [
    "# Define the DBN with stacked RBMs\n",
    "input_dim = 4717  # Size of your input features\n",
    "num_hidden1 = 128\n",
    "num_hidden2 = 64\n",
    "\n",
    "rbm1 = create_rbm(input_dim, num_hidden1)\n",
    "rbm2 = create_rbm(num_hidden1, num_hidden2)"
   ]
  },
  {
   "cell_type": "code",
   "execution_count": null,
   "metadata": {},
   "outputs": [],
   "source": [
    "# Train the RBMs individually \n",
    "# You'll likely need to adjust the training parameters for your specific data\n",
    "rbm1.fit(X_train, X_train, epochs=10, batch_size=32)\n",
    "rbm2.fit(rbm1.predict(X_train), rbm1.predict(X_train), epochs=10, batch_size=32)\n"
   ]
  },
  {
   "cell_type": "code",
   "execution_count": null,
   "metadata": {},
   "outputs": [],
   "source": [
    "# Construct the DBN by using the pre-trained RBMs for feature extraction \n",
    "# Then add a final classification layer\n",
    "input_layer = Input(shape=(input_dim,))\n",
    "hidden1 = rbm1(input_layer)\n",
    "hidden2 = rbm2(hidden1)\n",
    "output_layer = Dense(1, activation='sigmoid')(hidden2)\n",
    "dbn = Model(inputs=input_layer, outputs=output_layer)\n",
    "dbn.summary()"
   ]
  },
  {
   "cell_type": "code",
   "execution_count": null,
   "metadata": {},
   "outputs": [],
   "source": [
    "# Compile and train the DBN (only train the final classification layer)\n",
    "dbn.compile(optimizer='adam', loss='binary_crossentropy', metrics=['accuracy'])\n",
    "dbn.fit(X_train, y_train, epochs=10, validation_data=(X_test, y_test), callbacks=[early_stopping])"
   ]
  },
  {
   "cell_type": "code",
   "execution_count": null,
   "metadata": {},
   "outputs": [],
   "source": [
    "# Evaluate the DBN\n",
    "y_pred = dbn.predict(X_test)\n",
    "y_pred = np.round(y_pred)\n",
    "print(f\"Accuracy of DBN on test set : {accuracy_score(y_pred, y_test)}\")\n",
    "print(f\"F1 Score of DBN on test set : {f1_score(y_pred, y_test)}\")"
   ]
  },
  {
   "cell_type": "code",
   "execution_count": null,
   "metadata": {},
   "outputs": [],
   "source": [
    "# Plot training and validation loss\n",
    "history_dict = dbn.history.history # dbn.history.history is the correct attribute\n",
    "train_loss = history_dict['loss']    # Training loss over epochs\n",
    "val_loss = history_dict['val_loss']    # Validation loss over epochs\n",
    "epochs = range(1, len(history_dict['loss'])+1)\n",
    "plt.plot(epochs, train_loss,'g', label='Training error')\n",
    "plt.plot(epochs, val_loss,'b', color=\"red\", label='Validation error')\n",
    "plt.title('Training and Validation Loss')\n",
    "plt.xlabel('Epochs')\n",
    "plt.ylabel('Loss')\n",
    "plt.legend()\n",
    "plt.show()"
   ]
  },
  {
   "cell_type": "code",
   "execution_count": null,
   "metadata": {},
   "outputs": [],
   "source": [
    "# Plot training and validation accuracy\n",
    "train_acc = history_dict['accuracy']  # Training accuracy over epochs\n",
    "val_acc = history_dict['val_accuracy']  # Validation accuracy over epochs\n",
    "epochs = range(1, len(history_dict['accuracy']) + 1)\n",
    "plt.plot(epochs, train_acc, 'g', label='Training accuracy')\n",
    "plt.plot(epochs, val_acc, 'b', color=\"red\", label='Validation accuracy')\n",
    "plt.title('Training and Validation Accuracy')\n",
    "plt.xlabel('Epochs')\n",
    "plt.ylabel('Accuracy')\n",
    "plt.legend()\n",
    "plt.show()"
   ]
  },
  {
   "cell_type": "code",
   "execution_count": null,
   "metadata": {},
   "outputs": [],
   "source": [
    "# Confusion matrix and classification report\n",
    "conf_matrix_model = confusion_matrix(y_test, y_pred)\n",
    "plt.figure(figsize=(10, 8))\n",
    "sns.heatmap(conf_matrix_model, annot=True, fmt='.2f')\n",
    "plt.xlabel('Predicted Label')\n",
    "plt.ylabel('True Label')\n",
    "plt.title('Confusion Matrix')\n",
    "plt.show()\n",
    "print(classification_report(y_test, y_pred, target_names=[\"Non-Injection\", \"Injection\"]))"
   ]
  },
  {
   "cell_type": "code",
   "execution_count": null,
   "metadata": {},
   "outputs": [],
   "source": []
  },
  {
   "cell_type": "code",
   "execution_count": null,
   "metadata": {},
   "outputs": [],
   "source": []
  },
  {
   "cell_type": "code",
   "execution_count": null,
   "metadata": {},
   "outputs": [],
   "source": []
  }
 ],
 "metadata": {
  "colab": {
   "provenance": []
  },
  "kaggle": {
   "accelerator": "none",
   "dataSources": [
    {
     "datasetId": 538306,
     "sourceId": 2600626,
     "sourceType": "datasetVersion"
    }
   ],
   "dockerImageVersionId": 30260,
   "isGpuEnabled": false,
   "isInternetEnabled": true,
   "language": "python",
   "sourceType": "notebook"
  },
  "kernelspec": {
   "display_name": "Python 3 (ipykernel)",
   "language": "python",
   "name": "python3"
  },
  "language_info": {
   "codemirror_mode": {
    "name": "ipython",
    "version": 3
   },
   "file_extension": ".py",
   "mimetype": "text/x-python",
   "name": "python",
   "nbconvert_exporter": "python",
   "pygments_lexer": "ipython3",
   "version": "3.10.9"
  }
 },
 "nbformat": 4,
 "nbformat_minor": 1
}
